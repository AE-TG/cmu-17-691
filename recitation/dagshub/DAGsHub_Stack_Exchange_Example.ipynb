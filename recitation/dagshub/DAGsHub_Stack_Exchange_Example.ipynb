{
 "cells": [
  {
   "cell_type": "markdown",
   "metadata": {
    "id": "iR2ALb0TB9vf"
   },
   "source": [
    "<center> <img alt=\"DAGsHub\" width=500px src=https://raw.githubusercontent.com/DAGsHub/client/master/dagshub_github.png> </center>\n",
    "\n",
    "# Stack Exchange Tutorial - Exploratory Data Analysis (EDA)\n",
    "This notebook is the analysis of the data used in [DAGsHub's tutorial](https://dagshub.com/docs/experiment-tutorial/overview/).\n",
    "\n",
    "It's here mostly to give more in-depth explanations and code for those who are interested, and allows you to easily modify the code and try different things.\n",
    "\n",
    "If you just want to learn how to use DAGsHub, we suggest you just read through the [tutorial](https://dagshub.com/docs/experiment-tutorial/overview/), where we [explain the important parts of the results of this EDA](https://dagshub.com/docs/tutorial/0-data), as well as:\n",
    "\n",
    "* [How to experiment with different models, data preprocessing and feature engineering](https://dagshub.com/docs/experiment-tutorial/2-experiments/)\n",
    "* How to keep versions of your data and models, so that all of your experiments are automatically reproducible - TBD – for now go to our [Data Versioning Tutorial to learn this](https://dagshub.com/docs/tutorial/overview/)"
   ]
  },
  {
   "cell_type": "code",
   "execution_count": null,
   "metadata": {
    "id": "8KxJNKB4NQG8",
    "tags": []
   },
   "outputs": [],
   "source": [
    "# IMPORTANT! Restart the runtine after running this cell once\n",
    "!pip install --upgrade pandas-profiling==2.9.0"
   ]
  },
  {
   "cell_type": "markdown",
   "metadata": {
    "id": "m90fXP_pLPEP"
   },
   "source": [
    "## Download raw data\n",
    "The source of the data is the Cross Validated Stack Exchange API. \n",
    "It's a table of Questions.\n",
    " \n",
    "You can find the original query, play with it, get updated data, etc. here: https://data.stackexchange.com/stats/query/1290704/relevant-crossvalidated-posts-latest\n",
    "\n",
    "For your convenience and in order for you to get consistent results with the tutorial, we've stored this data on our publically\n",
    "readable cloud storage."
   ]
  },
  {
   "cell_type": "code",
   "execution_count": null,
   "metadata": {
    "colab": {
     "base_uri": "https://localhost:8080/"
    },
    "id": "CVX4uXhURH0u",
    "outputId": "d30c1d1a-5900-45a9-8678-b4ad3685911a",
    "tags": []
   },
   "outputs": [],
   "source": [
    "!wget https://dagshub-public.s3.us-east-2.amazonaws.com/tutorials/stackexchange/CrossValidated-Questions-Nov-2020.csv -O CrossValidated-Questions.csv"
   ]
  },
  {
   "cell_type": "code",
   "execution_count": null,
   "metadata": {
    "colab": {
     "base_uri": "https://localhost:8080/"
    },
    "id": "6FOVCZ0X4vb6",
    "outputId": "9f99eefa-c954-47dd-f41f-1fb358243cb9",
    "tags": []
   },
   "outputs": [],
   "source": [
    "!ls -lah"
   ]
  },
  {
   "cell_type": "markdown",
   "metadata": {
    "id": "Ob549P_pLVm0"
   },
   "source": [
    "## Load data for processing\n",
    "Since this is a CSV file, we can load it using [Pandas](https://pandas.pydata.org/) for processing."
   ]
  },
  {
   "cell_type": "code",
   "execution_count": null,
   "metadata": {
    "colab": {
     "base_uri": "https://localhost:8080/",
     "height": 419
    },
    "id": "UXOfr3tmR233",
    "outputId": "4b1b77e5-61e7-4034-b67d-1c8519de7142",
    "tags": []
   },
   "outputs": [],
   "source": [
    "import pandas as pd\n",
    "df = pd.read_csv('CrossValidated-Questions.csv')\n",
    "df"
   ]
  },
  {
   "cell_type": "markdown",
   "metadata": {
    "id": "H2UO0PbHLan4"
   },
   "source": [
    "The columns are pretty self explanatory - we have:\n",
    "\n",
    "* Two textual features (`Title` & `Body`). \n",
    "\n",
    "  We can already tell that this text is actually full of HTML tags, which we will probably need to clean to get good results.\n",
    "  \n",
    "* One string column that is actually the list of `Tags` for this question. This contains the target `machine-learning` tag we want to predict.\n",
    "* Some numeric features: `Score, ViewCount, AnswerCount, CommentCount, FavoriteCount`\n",
    "* One `CreationDate` feature that needs to be processed correctly:"
   ]
  },
  {
   "cell_type": "code",
   "execution_count": null,
   "metadata": {
    "id": "MaOJ8KhEtJ1A",
    "tags": []
   },
   "outputs": [],
   "source": [
    "df['CreationDate'] = pd.to_datetime(df['CreationDate'])\n",
    "# Also include the numeric representation of the timestamp, so we can look at its distribution / correlation with other features\n",
    "df['CreationDate_Epoch'] = df['CreationDate'].astype('int64') // 10 ** 9"
   ]
  },
  {
   "cell_type": "markdown",
   "metadata": {
    "id": "SSpU1eWsLoG_"
   },
   "source": [
    "Also, remember that our end goal here is to **classify questions about Machine Learning**.\n",
    "This information is stored in the `Tags` column:"
   ]
  },
  {
   "cell_type": "code",
   "execution_count": null,
   "metadata": {
    "id": "wi12xtuVJKL3",
    "tags": []
   },
   "outputs": [],
   "source": [
    "df['MachineLearning'] = df['Tags'].str.contains('machine-learning').fillna(False)"
   ]
  },
  {
   "cell_type": "markdown",
   "metadata": {
    "id": "4FtIdfm_B0tv"
   },
   "source": [
    "Now we can drop the non-informative columns"
   ]
  },
  {
   "cell_type": "code",
   "execution_count": null,
   "metadata": {
    "id": "NYcwDmyt3BGR",
    "tags": []
   },
   "outputs": [],
   "source": [
    "df = df.drop(columns=['Id','Tags'])"
   ]
  },
  {
   "cell_type": "markdown",
   "metadata": {
    "id": "BgYwQgOzE6z8"
   },
   "source": [
    "Some positive and negative samples:"
   ]
  },
  {
   "cell_type": "code",
   "execution_count": null,
   "metadata": {
    "colab": {
     "base_uri": "https://localhost:8080/",
     "height": 204
    },
    "id": "UvN-NJGJE43W",
    "outputId": "1d48d9dc-6bfb-40a6-9fe3-a4686b81a90f",
    "tags": []
   },
   "outputs": [],
   "source": [
    "df[df['MachineLearning']].sample(5)"
   ]
  },
  {
   "cell_type": "code",
   "execution_count": null,
   "metadata": {
    "colab": {
     "base_uri": "https://localhost:8080/",
     "height": 204
    },
    "id": "lvzHQW8mEpuX",
    "outputId": "e72fdf42-f3f3-464c-a675-81ccd4f1ea7c",
    "tags": []
   },
   "outputs": [],
   "source": [
    "df[df['MachineLearning'] != True].sample(5)"
   ]
  },
  {
   "cell_type": "markdown",
   "metadata": {
    "id": "xZkdhow-xtHP"
   },
   "source": [
    "We can define a new `Title_Len` and `Body_Len` column to get interesting statistics on question length"
   ]
  },
  {
   "cell_type": "code",
   "execution_count": null,
   "metadata": {
    "id": "YOAX4Po4xhJY",
    "tags": []
   },
   "outputs": [],
   "source": [
    "df['Title_Len'] = df.Title.str.len()\n",
    "df['Body_Len'] = df.Body.str.len()"
   ]
  },
  {
   "cell_type": "markdown",
   "metadata": {
    "id": "3otwcr9BFVVb"
   },
   "source": [
    "## Data Exploration\n",
    "Now, let's try to get a sense of the data distribution. We start out with a simple pandas describe on all columns."
   ]
  },
  {
   "cell_type": "code",
   "execution_count": null,
   "metadata": {
    "colab": {
     "base_uri": "https://localhost:8080/",
     "height": 506
    },
    "id": "-Nc_f8ZaR8xM",
    "outputId": "8450ca47-55c1-4c38-e9e8-cf693877cdcb"
   },
   "outputs": [],
   "source": [
    "df.describe(include='all')"
   ]
  },
  {
   "cell_type": "markdown",
   "metadata": {
    "id": "ikfe5NWIFgRc"
   },
   "source": [
    "Also, it's good to know that we don't need to deal with null values in this dataset. It seems safe to assume that the 82% of rows with `FavoriteCount == null` can be imputed to zeroes, meaning no user marked these questions as favorite."
   ]
  },
  {
   "cell_type": "code",
   "execution_count": null,
   "metadata": {
    "colab": {
     "base_uri": "https://localhost:8080/"
    },
    "id": "rnmnXYPhSWJG",
    "outputId": "e92cf786-c524-4216-d84a-b7fca10196f4"
   },
   "outputs": [],
   "source": [
    "df.isnull().sum() * 100 / df.shape[0]"
   ]
  },
  {
   "cell_type": "markdown",
   "metadata": {
    "id": "0Wnqf692GKOy"
   },
   "source": [
    "We'll use [Seaborn](https://seaborn.pydata.org/) to visualize data. It should be automatically available in the Google Colab environment."
   ]
  },
  {
   "cell_type": "code",
   "execution_count": null,
   "metadata": {
    "id": "T9TG_S8AGRKS"
   },
   "outputs": [],
   "source": [
    "import seaborn as sns\n",
    "sns.set()"
   ]
  },
  {
   "cell_type": "markdown",
   "metadata": {
    "id": "a1AQ8JbTGvzW"
   },
   "source": [
    "Looks like about 11.1% of the data is labeled as `machine-learning`. \n",
    "This means this will be an unbalanced classification problem, but not catastrophically unbalanced."
   ]
  },
  {
   "cell_type": "code",
   "execution_count": null,
   "metadata": {
    "colab": {
     "base_uri": "https://localhost:8080/",
     "height": 302
    },
    "id": "WIaQodIcGgep",
    "outputId": "6b2a2417-9605-477b-a980-de49b0fd2d66"
   },
   "outputs": [],
   "source": [
    "sns.countplot(x='MachineLearning', data=df, )\n",
    "print(f\"{df['MachineLearning'].mean() * 100}% labeled True\")"
   ]
  },
  {
   "cell_type": "markdown",
   "metadata": {
    "id": "T2ex8g7lwG3C"
   },
   "source": [
    "To quickly get a feel for the distribution of data, we can use [`pandas-profiling`](https://github.com/pandas-profiling/pandas-profiling).\n",
    "\n",
    "Note that the output is long and scrollable, so be sure to scroll through.\n",
    "\n",
    "Some quick observations from this report are:\n",
    "* We should drop the `FavoriteCount` column, since it's highly correlated with `Score`\n",
    "* `Score, ViewCount, AnswerCount` are highly skewed, so we might take that into account in data preparation.\n",
    "* Our label `MachineLearning` is not too strongly related with any other single feature\n",
    "* The `CreationDate` field is negatively correlated with most numeric fields, which would make sense as newer questions haven't had as much time to gather views, upvotes and answers.\n",
    "* `Body_Len` is negatively correlated with `AnswerCount`, which also makes sense - people are probably less inclined to read through a long question before answering it\n",
    "\n",
    "There are probably many other things to learn from this report, but we'll leave it for now. [In the next part of the tutorial](https://dagshub.com/docs/tutorial/1-experiments), we'll use what we've learned about the data to process it for training models."
   ]
  },
  {
   "cell_type": "code",
   "execution_count": null,
   "metadata": {
    "colab": {
     "base_uri": "https://localhost:8080/",
     "height": 968,
     "referenced_widgets": [
      "0dcf755ba65546ed984ee58be7d7b097",
      "40f108e5dd75461f8dcf1e644ae82816",
      "b095f6804db74aa1abe9cfe779aa5e49",
      "a75a31328a524978b64f5c59b7d2376c",
      "410ddb4b11e8454e8e6b130f92f5b4b2",
      "08b8d98c0a39449eb25c3e6d21962365",
      "8e8fe3ccf5f045cb9bc78e1b52956597",
      "4b6cd5de58314ba3ae12611c780df452",
      "115bbdd35a2f4a55a08d408232532a4a",
      "8c1323460314402080385c6e9684f43b",
      "fb6cb3f5666a4ee9b0255d26842b7f70",
      "a7319ad78db5443fbd602815c40b2999",
      "4b37d6b5462d4c3d91323aee931b41a7",
      "5b1a828e61714888b48fd1089ff9e7a3",
      "030eeb0705ba493eabf31581ff6c15f8",
      "472c82d85b9f4737a0e680c035359273",
      "42fe7892e8754d6c975c07b3697abd21",
      "bbc8458e114c4e5880122ac3968e3219",
      "038ed46abcaa455e8c4a85ef1d7db8d4",
      "20e375243d6c4b619e43c256be06b76a",
      "9c90f00838894c1286e266e9cb54686c",
      "cc42ccf0caea445d827c2c5e5bb941d1",
      "5983f6c6cd564243875727e796a691a3",
      "50942162ec114b70a735bdd6ef6e711e",
      "a91941f4dd12474eb7607bf802093695",
      "463c1048b0ec4b74ab51d284eff7d93c",
      "4fd0677b49784a98b2881b5c27694db7",
      "ccaf39541f674394b3f9dba1d680b257",
      "d784227f6db94cc694791eca951dd3bf",
      "757e448984444c19abf8584279d0de4b",
      "a6a1c4976e3f44bc955a9db1d5b6e582",
      "f3da48b7fa0642419589f58c58176bab",
      "ed1c4fb1560a48d1a540ede954439770"
     ]
    },
    "id": "6v-eMLV8Tdv6",
    "outputId": "c8746a53-0b99-4ca2-e82e-daabfe05b705"
   },
   "outputs": [],
   "source": [
    "from pandas_profiling import ProfileReport\n",
    "ProfileReport(df)"
   ]
  },
  {
   "cell_type": "code",
   "execution_count": null,
   "metadata": {
    "id": "K9nRritNqv1w"
   },
   "outputs": [],
   "source": [
    "# Drop the correlated features\n",
    "df = df.drop(columns=['FavoriteCount'])"
   ]
  },
  {
   "cell_type": "markdown",
   "metadata": {
    "id": "nxRKIrG-xjG5"
   },
   "source": [
    "## Processing the data\n",
    "\n",
    "First things first - we should split the data into train and test sets.\n",
    "\n",
    "Even before training the model itself, the preprocessing stages are supposed to fit only the training data, not the test data."
   ]
  },
  {
   "cell_type": "code",
   "execution_count": null,
   "metadata": {
    "id": "UY_0MoKExiJ7"
   },
   "outputs": [],
   "source": [
    "from sklearn.model_selection import train_test_split\n",
    "train_df, test_df = train_test_split(df)"
   ]
  },
  {
   "cell_type": "markdown",
   "metadata": {
    "id": "WXk_LAEk3uiy"
   },
   "source": [
    "Here, we try to scale and transform the numeric features to make them smoother, less skewed, and more appropriate for modeling.\n",
    "\n",
    "`PowerTransformer` attempts to make the data more like a normal distribution, which should soften the impact of extreme outliers and make the distributions smoother.\n",
    "\n",
    "`MinMaxScaler` is used as a first step to make sure the numbers are in a reasonable range, as `PowerTransformer` can fail on very large numbers."
   ]
  },
  {
   "cell_type": "code",
   "execution_count": null,
   "metadata": {
    "id": "BHyL1AY8rBJM"
   },
   "outputs": [],
   "source": [
    "from sklearn.preprocessing import MinMaxScaler, PowerTransformer\n",
    "from sklearn.pipeline import make_pipeline\n",
    "\n",
    "pipeline = make_pipeline(MinMaxScaler(), PowerTransformer())\n",
    "numeric_col_names = ['Title_Len','Body_Len','CreationDate_Epoch','AnswerCount','ViewCount','Score','CommentCount']\n",
    "train_df_norm = pd.DataFrame(pipeline.fit_transform(train_df[numeric_col_names]), columns=numeric_col_names)\n",
    "train_df_norm = train_df_norm.combine_first(train_df.reset_index()) # Add the other columns back"
   ]
  },
  {
   "cell_type": "code",
   "execution_count": null,
   "metadata": {
    "id": "NE0VKwiKZeT0"
   },
   "outputs": [],
   "source": [
    "test_df_norm = pd.DataFrame(pipeline.transform(test_df[numeric_col_names]), columns=numeric_col_names)\n",
    "test_df_norm = test_df_norm.combine_first(test_df.reset_index()) # Add the other columns back"
   ]
  },
  {
   "cell_type": "markdown",
   "metadata": {
    "id": "dNcL-3tiEQyO"
   },
   "source": [
    "Looking at the new distribution of the features, we can see they're now scaled correctly and not as skewed."
   ]
  },
  {
   "cell_type": "code",
   "execution_count": null,
   "metadata": {
    "colab": {
     "base_uri": "https://localhost:8080/",
     "height": 1000
    },
    "id": "_lckPrHMtbJL",
    "outputId": "8e81eca0-288d-404a-c09a-457f4ad1c34d"
   },
   "outputs": [],
   "source": [
    "sns.pairplot(train_df_norm.drop(columns=['index','CreationDate']), hue='MachineLearning')"
   ]
  },
  {
   "cell_type": "markdown",
   "metadata": {
    "id": "EfDkXnuaEuhi"
   },
   "source": [
    "## Model training\n",
    "\n",
    "Now, we'll fit a basic Logistic Regression model to our data, to see that it manages to learn anything. We're not trying to optimize it yet, just see that it successfully learns something useful, and that our preparation of the data helped.\n",
    "\n",
    "For the time being, we'll only use the *numeric* columns for this model. The textual columns require specialized preprocessing before they can be used as input to a model.\n",
    "\n",
    "We'll drop the `CreationDate` column, as its information is already stored in the scaled `CreationDate_Epoch` column.\n",
    "\n",
    "To get a good idea of how well the model learned something useful about the data, we also reserve some of the data for testing."
   ]
  },
  {
   "cell_type": "code",
   "execution_count": null,
   "metadata": {
    "colab": {
     "base_uri": "https://localhost:8080/"
    },
    "id": "zvJbYz5t5f4y",
    "outputId": "780fda21-36bc-4793-a568-10fe3594b4f7"
   },
   "outputs": [],
   "source": [
    "import sklearn.linear_model\n",
    "clf = sklearn.linear_model.LogisticRegression()\n",
    "train_cols = [c for c in numeric_col_names if c != 'CreationDate']\n",
    "X = train_df_norm[train_cols]\n",
    "y = train_df_norm['MachineLearning']\n",
    "clf.fit(X, y)"
   ]
  },
  {
   "cell_type": "markdown",
   "metadata": {
    "id": "aVVJfBqXFKe6"
   },
   "source": [
    "## Evaluation\n",
    "\n",
    "Since we know that the classes are very imbalanced (only about 8% of the questions labeled as `machine-learning`), we'll avoid using the accuracy metric as an indication. Instead, we'll take a look at the precision-recall curve and ROC, which can tell us more useful information."
   ]
  },
  {
   "cell_type": "code",
   "execution_count": null,
   "metadata": {
    "colab": {
     "base_uri": "https://localhost:8080/",
     "height": 570
    },
    "id": "STh3FN1E6CrE",
    "outputId": "d64039f8-00e6-4c4e-e2c3-36b558551979"
   },
   "outputs": [],
   "source": [
    "import sklearn.metrics\n",
    "X_test = test_df_norm[train_cols]\n",
    "y_test = test_df_norm['MachineLearning']\n",
    "sklearn.metrics.plot_precision_recall_curve(clf, X_test, y_test)\n",
    "sklearn.metrics.plot_roc_curve(clf, X_test, y_test)"
   ]
  },
  {
   "cell_type": "markdown",
   "metadata": {
    "id": "1dhwX03ZiGO5"
   },
   "source": [
    "We can also look at the learned feature importances to understand what our model is looking for:"
   ]
  },
  {
   "cell_type": "code",
   "execution_count": null,
   "metadata": {
    "colab": {
     "base_uri": "https://localhost:8080/",
     "height": 285
    },
    "id": "XmWjblg0dvRI",
    "outputId": "433b6bff-fc22-412c-8d85-1518c42bcb8f"
   },
   "outputs": [],
   "source": [
    "sns.barplot(y=train_cols, x=clf.coef_[0])"
   ]
  },
  {
   "cell_type": "markdown",
   "metadata": {
    "id": "HkR4LYjcGCF4"
   },
   "source": [
    "Looking at the following curves, we can see that the model really did learn useful information from the data, better than random at least. \n",
    "\n",
    "Let's compare to a classifier trained on the unscaled data:"
   ]
  },
  {
   "cell_type": "code",
   "execution_count": null,
   "metadata": {
    "colab": {
     "base_uri": "https://localhost:8080/",
     "height": 570
    },
    "id": "dSWxijNpGUYH",
    "outputId": "051a5109-553b-440d-dea9-026fc3020123"
   },
   "outputs": [],
   "source": [
    "clf_raw = sklearn.linear_model.LogisticRegression()\n",
    "X_raw = train_df[train_cols]\n",
    "y_raw = train_df['MachineLearning']\n",
    "clf_raw.fit(X_raw, y_raw)\n",
    "\n",
    "X_test_raw = test_df[train_cols]\n",
    "y_test_raw = test_df['MachineLearning']\n",
    "sklearn.metrics.plot_precision_recall_curve(clf_raw, X_test_raw, y_test_raw)\n",
    "sklearn.metrics.plot_roc_curve(clf_raw, X_test_raw, y_test_raw)"
   ]
  },
  {
   "cell_type": "markdown",
   "metadata": {
    "id": "uzTj6tiqHBjy"
   },
   "source": [
    "Clearly our data preprocessing helped - using the raw data yielded results that are even worse than random!\n",
    "\n",
    "For sanity checking, let's compare it to a naive model, which always just guesses the common label:"
   ]
  },
  {
   "cell_type": "code",
   "execution_count": null,
   "metadata": {
    "colab": {
     "base_uri": "https://localhost:8080/",
     "height": 604
    },
    "id": "C5T6Ax31HYN9",
    "outputId": "65381de7-02be-4553-a348-cfc0d52e154e"
   },
   "outputs": [],
   "source": [
    "import sklearn.dummy\n",
    "clf_dummy = sklearn.dummy.DummyClassifier()\n",
    "clf_dummy.fit(X, y)\n",
    "\n",
    "sklearn.metrics.plot_precision_recall_curve(clf_dummy, X_test, y_test)\n",
    "sklearn.metrics.plot_roc_curve(clf_dummy, X_test, y_test)"
   ]
  },
  {
   "cell_type": "markdown",
   "metadata": {
    "id": "RuXszcmTIABQ"
   },
   "source": [
    "## Textual Features\n",
    "\n",
    "So, at this point we have a sense for our data, have found a good way to scale and normalze our *numeric* features, and have trained a very basic classifier on it.\n",
    "\n",
    "The next phase would be to see what happens when we take advantage of our textual features - `Title` & `Body`. We'll use *only* the textual features to simplify things and isolate the effects.\n",
    "\n",
    "To make things simple, we'll unify them into one big textual column."
   ]
  },
  {
   "cell_type": "code",
   "execution_count": null,
   "metadata": {
    "id": "IflaCzgGKEln"
   },
   "outputs": [],
   "source": [
    "train_text_col = train_df_norm['Title'].fillna('') + ' ' + train_df_norm['Body'].fillna('')\n",
    "test_text_col = test_df_norm['Title'].fillna('') + ' ' + test_df_norm['Body'].fillna('')"
   ]
  },
  {
   "cell_type": "markdown",
   "metadata": {
    "id": "OXx3Uy21qNfv"
   },
   "source": [
    "To turn this text into numerical features that can be used as input to a ML model, we'll use [`TfidfVectorizer`](https://scikit-learn.org/stable/modules/generated/sklearn.feature_extraction.text.TfidfVectorizer.html) with a sensible limit of vocabulary size (`max_features=25000`). It will split the text into tokens, and give each question in the data a numerical representation of the frequency of tokens in that question.\n",
    "\n",
    "Note that special care is needed when handling [sparse matrices in Pandas](https://pandas.pydata.org/pandas-docs/stable/user_guide/sparse.html), and the result returned from `TfidfVectorizer` is a sparse matrix. **If you ignore this special handling, expect to run into out-of-memory errors, unresponsiveness and crashes as the sparse matrix gets inflated.**"
   ]
  },
  {
   "cell_type": "code",
   "execution_count": null,
   "metadata": {
    "id": "IxpN21hDKlCI"
   },
   "outputs": [],
   "source": [
    "from sklearn.feature_extraction.text import TfidfVectorizer\n",
    "tfidf = TfidfVectorizer(max_features=25000)\n",
    "tfidf.fit(train_text_col)\n",
    "train_tfidf_df = pd.DataFrame.sparse.from_spmatrix(tfidf.transform(train_text_col), columns=tfidf.get_feature_names())\n",
    "test_tfidf_df = pd.DataFrame.sparse.from_spmatrix(tfidf.transform(test_text_col), columns=tfidf.get_feature_names())"
   ]
  },
  {
   "cell_type": "markdown",
   "metadata": {
    "id": "WNb_vyrIVLmD"
   },
   "source": [
    "**Interesting notes:** Looks like many of the learned terms are: \n",
    "* Various numbers, like `00`, `00000000e` etc. It could be useful to prevent this splitting of numbers into many different terms in the vocabulary, since it probably won't matter to classifying the text.\n",
    "* Multiple terms grouped together due to an underscore, like `variable_2`. This is probably an artifact of embedded Python or TeX code. It might help the model if we break these down to separate terms.\n",
    "* Remember, the questions contain embedded HTML. While we're not seeing any terms that were clearly garbage created by HTML, it's a good bet that it will be useful to clean up the HTML tags in the text."
   ]
  },
  {
   "cell_type": "code",
   "execution_count": null,
   "metadata": {
    "colab": {
     "base_uri": "https://localhost:8080/",
     "height": 419
    },
    "id": "fbFcmduSxbLF",
    "outputId": "766bcb4a-7f46-4536-f347-2d60e414d341"
   },
   "outputs": [],
   "source": [
    "train_tfidf_df.sample(15, axis=1)"
   ]
  },
  {
   "cell_type": "code",
   "execution_count": null,
   "metadata": {
    "colab": {
     "base_uri": "https://localhost:8080/"
    },
    "id": "HweBFTI_ZbxM",
    "outputId": "95237b3d-66af-43fd-afe6-4b7f9c878237"
   },
   "outputs": [],
   "source": [
    "clf_tfidf = sklearn.linear_model.LogisticRegression()\n",
    "clf_tfidf.fit(train_tfidf_df.sparse.to_coo(), y)"
   ]
  },
  {
   "cell_type": "markdown",
   "metadata": {
    "id": "IM5ExRJ7r2SG"
   },
   "source": [
    "## Evaluating the textual model\n",
    "Below, we can see that the new text-based model performs stunningly well!\n",
    "\n",
    "This is not surprising, as most information will be contained in the text content of each question."
   ]
  },
  {
   "cell_type": "code",
   "execution_count": null,
   "metadata": {
    "colab": {
     "base_uri": "https://localhost:8080/",
     "height": 570
    },
    "id": "p53Tl0Wucv8L",
    "outputId": "110def9e-4b3c-48b1-d406-89cae4878f36"
   },
   "outputs": [],
   "source": [
    "X_tfidf_test = test_tfidf_df.sparse.to_coo()\n",
    "sklearn.metrics.plot_precision_recall_curve(clf_tfidf, X_tfidf_test, y_test)\n",
    "sklearn.metrics.plot_roc_curve(clf_tfidf, X_tfidf_test, y_test)"
   ]
  },
  {
   "cell_type": "markdown",
   "metadata": {
    "id": "KUW5bEULyrmf"
   },
   "source": [
    "As a sanity check, it's a good idea to check what terms the textual model cares about when making its decision.\n",
    "\n",
    "As we see below, it looks like our model learned some very good, sensible terms, that we would have probably guessed on our own, such as `machine`, `learning`, `classifier`, etc.\n",
    "\n",
    "It's interesting to note that `analysis` is a *negative*  predictor for a question about machine learning, as opposed to a general statistical question. Just throw a neural network at it 😅"
   ]
  },
  {
   "cell_type": "code",
   "execution_count": null,
   "metadata": {
    "colab": {
     "base_uri": "https://localhost:8080/",
     "height": 302
    },
    "id": "KWQI9Re8sX7A",
    "outputId": "c7e3b778-3ad1-4ee0-cd7c-75b456c4da2a"
   },
   "outputs": [],
   "source": [
    "tfidf_coef_df = pd.DataFrame({'coef':clf_tfidf.coef_[0]})\n",
    "tfidf_coef_df['term'] = tfidf.get_feature_names()\n",
    "tfidf_coef_df['coef_abs'] = tfidf_coef_df['coef'].abs()\n",
    "tfidf_coef_df = tfidf_coef_df.sort_values('coef_abs', ascending=False)\n",
    "sns.barplot(y='term', x='coef', data=tfidf_coef_df[:20])"
   ]
  },
  {
   "cell_type": "markdown",
   "metadata": {
    "id": "3lUCHoEE466v"
   },
   "source": [
    "[![Stack More Layers](https://stackmorelayers.be/bg.png)](https://stackmorelayers.be)"
   ]
  },
  {
   "cell_type": "markdown",
   "metadata": {
    "id": "l82YjkIz3PDe"
   },
   "source": [
    "# Conclusion\n",
    "\n",
    "We got a good sense of our data, the type of preprocessing required, and managed to train some decent classifiers with it.\n",
    "\n",
    "At this point in a Python data science project, it's common to take the conclusions and working code from the exploratory notebook, and turn them into normal Python modules. This enables us to more easily:\n",
    "* Create reusable components that will be useful as the project matures.\n",
    "* Use code versioning tools like Git.\n",
    "* Make the process more reproducible by defining a clear pipeline (order of operations) for the data and model training.\n",
    "* Automate running and tracking of experiments.\n",
    "* Version our different experiments and models, so that we preserve knowledge and don't risk losing work by accident.\n",
    "\n",
    "[In the next level of DAGsHub's tutorial](https://dagshub.com/docs/experiment-tutorial/1-setup/), we'll take what works from this notebook and turn it into a Python project, before [going forward with experimentation](https://dagshub.com/docs/experiment-tutorial/2-experiments/) to find the best performing model for out problem.\n",
    "\n",
    "Made with 🐶 by [DAGsHub](https://dagshub.com)."
   ]
  }
 ],
 "metadata": {
  "colab": {
   "provenance": [],
   "toc_visible": true
  },
  "kernelspec": {
   "display_name": "Python 3 (ipykernel)",
   "language": "python",
   "name": "python3"
  },
  "language_info": {
   "codemirror_mode": {
    "name": "ipython",
    "version": 3
   },
   "file_extension": ".py",
   "mimetype": "text/x-python",
   "name": "python",
   "nbconvert_exporter": "python",
   "pygments_lexer": "ipython3",
   "version": "3.10.9"
  },
  "widgets": {
   "application/vnd.jupyter.widget-state+json": {
    "030eeb0705ba493eabf31581ff6c15f8": {
     "model_module": "@jupyter-widgets/controls",
     "model_module_version": "1.5.0",
     "model_name": "FloatProgressModel",
     "state": {
      "_dom_classes": [],
      "_model_module": "@jupyter-widgets/controls",
      "_model_module_version": "1.5.0",
      "_model_name": "FloatProgressModel",
      "_view_count": null,
      "_view_module": "@jupyter-widgets/controls",
      "_view_module_version": "1.5.0",
      "_view_name": "ProgressView",
      "bar_style": "success",
      "description": "",
      "description_tooltip": null,
      "layout": "IPY_MODEL_20e375243d6c4b619e43c256be06b76a",
      "max": 1,
      "min": 0,
      "orientation": "horizontal",
      "style": "IPY_MODEL_038ed46abcaa455e8c4a85ef1d7db8d4",
      "value": 1
     }
    },
    "038ed46abcaa455e8c4a85ef1d7db8d4": {
     "model_module": "@jupyter-widgets/controls",
     "model_module_version": "1.5.0",
     "model_name": "ProgressStyleModel",
     "state": {
      "_model_module": "@jupyter-widgets/controls",
      "_model_module_version": "1.5.0",
      "_model_name": "ProgressStyleModel",
      "_view_count": null,
      "_view_module": "@jupyter-widgets/base",
      "_view_module_version": "1.2.0",
      "_view_name": "StyleView",
      "bar_color": null,
      "description_width": ""
     }
    },
    "08b8d98c0a39449eb25c3e6d21962365": {
     "model_module": "@jupyter-widgets/controls",
     "model_module_version": "1.5.0",
     "model_name": "DescriptionStyleModel",
     "state": {
      "_model_module": "@jupyter-widgets/controls",
      "_model_module_version": "1.5.0",
      "_model_name": "DescriptionStyleModel",
      "_view_count": null,
      "_view_module": "@jupyter-widgets/base",
      "_view_module_version": "1.2.0",
      "_view_name": "StyleView",
      "description_width": ""
     }
    },
    "0dcf755ba65546ed984ee58be7d7b097": {
     "model_module": "@jupyter-widgets/controls",
     "model_module_version": "1.5.0",
     "model_name": "HBoxModel",
     "state": {
      "_dom_classes": [],
      "_model_module": "@jupyter-widgets/controls",
      "_model_module_version": "1.5.0",
      "_model_name": "HBoxModel",
      "_view_count": null,
      "_view_module": "@jupyter-widgets/controls",
      "_view_module_version": "1.5.0",
      "_view_name": "HBoxView",
      "box_style": "",
      "children": [
       "IPY_MODEL_b095f6804db74aa1abe9cfe779aa5e49",
       "IPY_MODEL_a75a31328a524978b64f5c59b7d2376c",
       "IPY_MODEL_410ddb4b11e8454e8e6b130f92f5b4b2"
      ],
      "layout": "IPY_MODEL_40f108e5dd75461f8dcf1e644ae82816"
     }
    },
    "115bbdd35a2f4a55a08d408232532a4a": {
     "model_module": "@jupyter-widgets/base",
     "model_module_version": "1.2.0",
     "model_name": "LayoutModel",
     "state": {
      "_model_module": "@jupyter-widgets/base",
      "_model_module_version": "1.2.0",
      "_model_name": "LayoutModel",
      "_view_count": null,
      "_view_module": "@jupyter-widgets/base",
      "_view_module_version": "1.2.0",
      "_view_name": "LayoutView",
      "align_content": null,
      "align_items": null,
      "align_self": null,
      "border": null,
      "bottom": null,
      "display": null,
      "flex": null,
      "flex_flow": null,
      "grid_area": null,
      "grid_auto_columns": null,
      "grid_auto_flow": null,
      "grid_auto_rows": null,
      "grid_column": null,
      "grid_gap": null,
      "grid_row": null,
      "grid_template_areas": null,
      "grid_template_columns": null,
      "grid_template_rows": null,
      "height": null,
      "justify_content": null,
      "justify_items": null,
      "left": null,
      "margin": null,
      "max_height": null,
      "max_width": null,
      "min_height": null,
      "min_width": null,
      "object_fit": null,
      "object_position": null,
      "order": null,
      "overflow": null,
      "overflow_x": null,
      "overflow_y": null,
      "padding": null,
      "right": null,
      "top": null,
      "visibility": null,
      "width": null
     }
    },
    "20e375243d6c4b619e43c256be06b76a": {
     "model_module": "@jupyter-widgets/base",
     "model_module_version": "1.2.0",
     "model_name": "LayoutModel",
     "state": {
      "_model_module": "@jupyter-widgets/base",
      "_model_module_version": "1.2.0",
      "_model_name": "LayoutModel",
      "_view_count": null,
      "_view_module": "@jupyter-widgets/base",
      "_view_module_version": "1.2.0",
      "_view_name": "LayoutView",
      "align_content": null,
      "align_items": null,
      "align_self": null,
      "border": null,
      "bottom": null,
      "display": null,
      "flex": null,
      "flex_flow": null,
      "grid_area": null,
      "grid_auto_columns": null,
      "grid_auto_flow": null,
      "grid_auto_rows": null,
      "grid_column": null,
      "grid_gap": null,
      "grid_row": null,
      "grid_template_areas": null,
      "grid_template_columns": null,
      "grid_template_rows": null,
      "height": null,
      "justify_content": null,
      "justify_items": null,
      "left": null,
      "margin": null,
      "max_height": null,
      "max_width": null,
      "min_height": null,
      "min_width": null,
      "object_fit": null,
      "object_position": null,
      "order": null,
      "overflow": null,
      "overflow_x": null,
      "overflow_y": null,
      "padding": null,
      "right": null,
      "top": null,
      "visibility": null,
      "width": null
     }
    },
    "40f108e5dd75461f8dcf1e644ae82816": {
     "model_module": "@jupyter-widgets/base",
     "model_module_version": "1.2.0",
     "model_name": "LayoutModel",
     "state": {
      "_model_module": "@jupyter-widgets/base",
      "_model_module_version": "1.2.0",
      "_model_name": "LayoutModel",
      "_view_count": null,
      "_view_module": "@jupyter-widgets/base",
      "_view_module_version": "1.2.0",
      "_view_name": "LayoutView",
      "align_content": null,
      "align_items": null,
      "align_self": null,
      "border": null,
      "bottom": null,
      "display": null,
      "flex": null,
      "flex_flow": null,
      "grid_area": null,
      "grid_auto_columns": null,
      "grid_auto_flow": null,
      "grid_auto_rows": null,
      "grid_column": null,
      "grid_gap": null,
      "grid_row": null,
      "grid_template_areas": null,
      "grid_template_columns": null,
      "grid_template_rows": null,
      "height": null,
      "justify_content": null,
      "justify_items": null,
      "left": null,
      "margin": null,
      "max_height": null,
      "max_width": null,
      "min_height": null,
      "min_width": null,
      "object_fit": null,
      "object_position": null,
      "order": null,
      "overflow": null,
      "overflow_x": null,
      "overflow_y": null,
      "padding": null,
      "right": null,
      "top": null,
      "visibility": null,
      "width": null
     }
    },
    "410ddb4b11e8454e8e6b130f92f5b4b2": {
     "model_module": "@jupyter-widgets/controls",
     "model_module_version": "1.5.0",
     "model_name": "HTMLModel",
     "state": {
      "_dom_classes": [],
      "_model_module": "@jupyter-widgets/controls",
      "_model_module_version": "1.5.0",
      "_model_name": "HTMLModel",
      "_view_count": null,
      "_view_module": "@jupyter-widgets/controls",
      "_view_module_version": "1.5.0",
      "_view_name": "HTMLView",
      "description": "",
      "description_tooltip": null,
      "layout": "IPY_MODEL_fb6cb3f5666a4ee9b0255d26842b7f70",
      "placeholder": "​",
      "style": "IPY_MODEL_8c1323460314402080385c6e9684f43b",
      "value": " 26/26 [00:19&lt;00:00,  1.35it/s, Completed]"
     }
    },
    "42fe7892e8754d6c975c07b3697abd21": {
     "model_module": "@jupyter-widgets/controls",
     "model_module_version": "1.5.0",
     "model_name": "DescriptionStyleModel",
     "state": {
      "_model_module": "@jupyter-widgets/controls",
      "_model_module_version": "1.5.0",
      "_model_name": "DescriptionStyleModel",
      "_view_count": null,
      "_view_module": "@jupyter-widgets/base",
      "_view_module_version": "1.2.0",
      "_view_name": "StyleView",
      "description_width": ""
     }
    },
    "463c1048b0ec4b74ab51d284eff7d93c": {
     "model_module": "@jupyter-widgets/controls",
     "model_module_version": "1.5.0",
     "model_name": "FloatProgressModel",
     "state": {
      "_dom_classes": [],
      "_model_module": "@jupyter-widgets/controls",
      "_model_module_version": "1.5.0",
      "_model_name": "FloatProgressModel",
      "_view_count": null,
      "_view_module": "@jupyter-widgets/controls",
      "_view_module_version": "1.5.0",
      "_view_name": "ProgressView",
      "bar_style": "success",
      "description": "",
      "description_tooltip": null,
      "layout": "IPY_MODEL_a6a1c4976e3f44bc955a9db1d5b6e582",
      "max": 1,
      "min": 0,
      "orientation": "horizontal",
      "style": "IPY_MODEL_757e448984444c19abf8584279d0de4b",
      "value": 1
     }
    },
    "472c82d85b9f4737a0e680c035359273": {
     "model_module": "@jupyter-widgets/controls",
     "model_module_version": "1.5.0",
     "model_name": "HTMLModel",
     "state": {
      "_dom_classes": [],
      "_model_module": "@jupyter-widgets/controls",
      "_model_module_version": "1.5.0",
      "_model_name": "HTMLModel",
      "_view_count": null,
      "_view_module": "@jupyter-widgets/controls",
      "_view_module_version": "1.5.0",
      "_view_name": "HTMLView",
      "description": "",
      "description_tooltip": null,
      "layout": "IPY_MODEL_cc42ccf0caea445d827c2c5e5bb941d1",
      "placeholder": "​",
      "style": "IPY_MODEL_9c90f00838894c1286e266e9cb54686c",
      "value": " 1/1 [07:28&lt;00:00, 448.92s/it]"
     }
    },
    "4b37d6b5462d4c3d91323aee931b41a7": {
     "model_module": "@jupyter-widgets/base",
     "model_module_version": "1.2.0",
     "model_name": "LayoutModel",
     "state": {
      "_model_module": "@jupyter-widgets/base",
      "_model_module_version": "1.2.0",
      "_model_name": "LayoutModel",
      "_view_count": null,
      "_view_module": "@jupyter-widgets/base",
      "_view_module_version": "1.2.0",
      "_view_name": "LayoutView",
      "align_content": null,
      "align_items": null,
      "align_self": null,
      "border": null,
      "bottom": null,
      "display": null,
      "flex": null,
      "flex_flow": null,
      "grid_area": null,
      "grid_auto_columns": null,
      "grid_auto_flow": null,
      "grid_auto_rows": null,
      "grid_column": null,
      "grid_gap": null,
      "grid_row": null,
      "grid_template_areas": null,
      "grid_template_columns": null,
      "grid_template_rows": null,
      "height": null,
      "justify_content": null,
      "justify_items": null,
      "left": null,
      "margin": null,
      "max_height": null,
      "max_width": null,
      "min_height": null,
      "min_width": null,
      "object_fit": null,
      "object_position": null,
      "order": null,
      "overflow": null,
      "overflow_x": null,
      "overflow_y": null,
      "padding": null,
      "right": null,
      "top": null,
      "visibility": null,
      "width": null
     }
    },
    "4b6cd5de58314ba3ae12611c780df452": {
     "model_module": "@jupyter-widgets/controls",
     "model_module_version": "1.5.0",
     "model_name": "ProgressStyleModel",
     "state": {
      "_model_module": "@jupyter-widgets/controls",
      "_model_module_version": "1.5.0",
      "_model_name": "ProgressStyleModel",
      "_view_count": null,
      "_view_module": "@jupyter-widgets/base",
      "_view_module_version": "1.2.0",
      "_view_name": "StyleView",
      "bar_color": null,
      "description_width": ""
     }
    },
    "4fd0677b49784a98b2881b5c27694db7": {
     "model_module": "@jupyter-widgets/controls",
     "model_module_version": "1.5.0",
     "model_name": "HTMLModel",
     "state": {
      "_dom_classes": [],
      "_model_module": "@jupyter-widgets/controls",
      "_model_module_version": "1.5.0",
      "_model_name": "HTMLModel",
      "_view_count": null,
      "_view_module": "@jupyter-widgets/controls",
      "_view_module_version": "1.5.0",
      "_view_name": "HTMLView",
      "description": "",
      "description_tooltip": null,
      "layout": "IPY_MODEL_ed1c4fb1560a48d1a540ede954439770",
      "placeholder": "​",
      "style": "IPY_MODEL_f3da48b7fa0642419589f58c58176bab",
      "value": " 1/1 [05:37&lt;00:00, 337.28s/it]"
     }
    },
    "50942162ec114b70a735bdd6ef6e711e": {
     "model_module": "@jupyter-widgets/base",
     "model_module_version": "1.2.0",
     "model_name": "LayoutModel",
     "state": {
      "_model_module": "@jupyter-widgets/base",
      "_model_module_version": "1.2.0",
      "_model_name": "LayoutModel",
      "_view_count": null,
      "_view_module": "@jupyter-widgets/base",
      "_view_module_version": "1.2.0",
      "_view_name": "LayoutView",
      "align_content": null,
      "align_items": null,
      "align_self": null,
      "border": null,
      "bottom": null,
      "display": null,
      "flex": null,
      "flex_flow": null,
      "grid_area": null,
      "grid_auto_columns": null,
      "grid_auto_flow": null,
      "grid_auto_rows": null,
      "grid_column": null,
      "grid_gap": null,
      "grid_row": null,
      "grid_template_areas": null,
      "grid_template_columns": null,
      "grid_template_rows": null,
      "height": null,
      "justify_content": null,
      "justify_items": null,
      "left": null,
      "margin": null,
      "max_height": null,
      "max_width": null,
      "min_height": null,
      "min_width": null,
      "object_fit": null,
      "object_position": null,
      "order": null,
      "overflow": null,
      "overflow_x": null,
      "overflow_y": null,
      "padding": null,
      "right": null,
      "top": null,
      "visibility": null,
      "width": null
     }
    },
    "5983f6c6cd564243875727e796a691a3": {
     "model_module": "@jupyter-widgets/controls",
     "model_module_version": "1.5.0",
     "model_name": "HBoxModel",
     "state": {
      "_dom_classes": [],
      "_model_module": "@jupyter-widgets/controls",
      "_model_module_version": "1.5.0",
      "_model_name": "HBoxModel",
      "_view_count": null,
      "_view_module": "@jupyter-widgets/controls",
      "_view_module_version": "1.5.0",
      "_view_name": "HBoxView",
      "box_style": "",
      "children": [
       "IPY_MODEL_a91941f4dd12474eb7607bf802093695",
       "IPY_MODEL_463c1048b0ec4b74ab51d284eff7d93c",
       "IPY_MODEL_4fd0677b49784a98b2881b5c27694db7"
      ],
      "layout": "IPY_MODEL_50942162ec114b70a735bdd6ef6e711e"
     }
    },
    "5b1a828e61714888b48fd1089ff9e7a3": {
     "model_module": "@jupyter-widgets/controls",
     "model_module_version": "1.5.0",
     "model_name": "HTMLModel",
     "state": {
      "_dom_classes": [],
      "_model_module": "@jupyter-widgets/controls",
      "_model_module_version": "1.5.0",
      "_model_name": "HTMLModel",
      "_view_count": null,
      "_view_module": "@jupyter-widgets/controls",
      "_view_module_version": "1.5.0",
      "_view_name": "HTMLView",
      "description": "",
      "description_tooltip": null,
      "layout": "IPY_MODEL_bbc8458e114c4e5880122ac3968e3219",
      "placeholder": "​",
      "style": "IPY_MODEL_42fe7892e8754d6c975c07b3697abd21",
      "value": "Generate report structure: 100%"
     }
    },
    "757e448984444c19abf8584279d0de4b": {
     "model_module": "@jupyter-widgets/controls",
     "model_module_version": "1.5.0",
     "model_name": "ProgressStyleModel",
     "state": {
      "_model_module": "@jupyter-widgets/controls",
      "_model_module_version": "1.5.0",
      "_model_name": "ProgressStyleModel",
      "_view_count": null,
      "_view_module": "@jupyter-widgets/base",
      "_view_module_version": "1.2.0",
      "_view_name": "StyleView",
      "bar_color": null,
      "description_width": ""
     }
    },
    "8c1323460314402080385c6e9684f43b": {
     "model_module": "@jupyter-widgets/controls",
     "model_module_version": "1.5.0",
     "model_name": "DescriptionStyleModel",
     "state": {
      "_model_module": "@jupyter-widgets/controls",
      "_model_module_version": "1.5.0",
      "_model_name": "DescriptionStyleModel",
      "_view_count": null,
      "_view_module": "@jupyter-widgets/base",
      "_view_module_version": "1.2.0",
      "_view_name": "StyleView",
      "description_width": ""
     }
    },
    "8e8fe3ccf5f045cb9bc78e1b52956597": {
     "model_module": "@jupyter-widgets/base",
     "model_module_version": "1.2.0",
     "model_name": "LayoutModel",
     "state": {
      "_model_module": "@jupyter-widgets/base",
      "_model_module_version": "1.2.0",
      "_model_name": "LayoutModel",
      "_view_count": null,
      "_view_module": "@jupyter-widgets/base",
      "_view_module_version": "1.2.0",
      "_view_name": "LayoutView",
      "align_content": null,
      "align_items": null,
      "align_self": null,
      "border": null,
      "bottom": null,
      "display": null,
      "flex": null,
      "flex_flow": null,
      "grid_area": null,
      "grid_auto_columns": null,
      "grid_auto_flow": null,
      "grid_auto_rows": null,
      "grid_column": null,
      "grid_gap": null,
      "grid_row": null,
      "grid_template_areas": null,
      "grid_template_columns": null,
      "grid_template_rows": null,
      "height": null,
      "justify_content": null,
      "justify_items": null,
      "left": null,
      "margin": null,
      "max_height": null,
      "max_width": null,
      "min_height": null,
      "min_width": null,
      "object_fit": null,
      "object_position": null,
      "order": null,
      "overflow": null,
      "overflow_x": null,
      "overflow_y": null,
      "padding": null,
      "right": null,
      "top": null,
      "visibility": null,
      "width": null
     }
    },
    "9c90f00838894c1286e266e9cb54686c": {
     "model_module": "@jupyter-widgets/controls",
     "model_module_version": "1.5.0",
     "model_name": "DescriptionStyleModel",
     "state": {
      "_model_module": "@jupyter-widgets/controls",
      "_model_module_version": "1.5.0",
      "_model_name": "DescriptionStyleModel",
      "_view_count": null,
      "_view_module": "@jupyter-widgets/base",
      "_view_module_version": "1.2.0",
      "_view_name": "StyleView",
      "description_width": ""
     }
    },
    "a6a1c4976e3f44bc955a9db1d5b6e582": {
     "model_module": "@jupyter-widgets/base",
     "model_module_version": "1.2.0",
     "model_name": "LayoutModel",
     "state": {
      "_model_module": "@jupyter-widgets/base",
      "_model_module_version": "1.2.0",
      "_model_name": "LayoutModel",
      "_view_count": null,
      "_view_module": "@jupyter-widgets/base",
      "_view_module_version": "1.2.0",
      "_view_name": "LayoutView",
      "align_content": null,
      "align_items": null,
      "align_self": null,
      "border": null,
      "bottom": null,
      "display": null,
      "flex": null,
      "flex_flow": null,
      "grid_area": null,
      "grid_auto_columns": null,
      "grid_auto_flow": null,
      "grid_auto_rows": null,
      "grid_column": null,
      "grid_gap": null,
      "grid_row": null,
      "grid_template_areas": null,
      "grid_template_columns": null,
      "grid_template_rows": null,
      "height": null,
      "justify_content": null,
      "justify_items": null,
      "left": null,
      "margin": null,
      "max_height": null,
      "max_width": null,
      "min_height": null,
      "min_width": null,
      "object_fit": null,
      "object_position": null,
      "order": null,
      "overflow": null,
      "overflow_x": null,
      "overflow_y": null,
      "padding": null,
      "right": null,
      "top": null,
      "visibility": null,
      "width": null
     }
    },
    "a7319ad78db5443fbd602815c40b2999": {
     "model_module": "@jupyter-widgets/controls",
     "model_module_version": "1.5.0",
     "model_name": "HBoxModel",
     "state": {
      "_dom_classes": [],
      "_model_module": "@jupyter-widgets/controls",
      "_model_module_version": "1.5.0",
      "_model_name": "HBoxModel",
      "_view_count": null,
      "_view_module": "@jupyter-widgets/controls",
      "_view_module_version": "1.5.0",
      "_view_name": "HBoxView",
      "box_style": "",
      "children": [
       "IPY_MODEL_5b1a828e61714888b48fd1089ff9e7a3",
       "IPY_MODEL_030eeb0705ba493eabf31581ff6c15f8",
       "IPY_MODEL_472c82d85b9f4737a0e680c035359273"
      ],
      "layout": "IPY_MODEL_4b37d6b5462d4c3d91323aee931b41a7"
     }
    },
    "a75a31328a524978b64f5c59b7d2376c": {
     "model_module": "@jupyter-widgets/controls",
     "model_module_version": "1.5.0",
     "model_name": "FloatProgressModel",
     "state": {
      "_dom_classes": [],
      "_model_module": "@jupyter-widgets/controls",
      "_model_module_version": "1.5.0",
      "_model_name": "FloatProgressModel",
      "_view_count": null,
      "_view_module": "@jupyter-widgets/controls",
      "_view_module_version": "1.5.0",
      "_view_name": "ProgressView",
      "bar_style": "success",
      "description": "",
      "description_tooltip": null,
      "layout": "IPY_MODEL_115bbdd35a2f4a55a08d408232532a4a",
      "max": 26,
      "min": 0,
      "orientation": "horizontal",
      "style": "IPY_MODEL_4b6cd5de58314ba3ae12611c780df452",
      "value": 26
     }
    },
    "a91941f4dd12474eb7607bf802093695": {
     "model_module": "@jupyter-widgets/controls",
     "model_module_version": "1.5.0",
     "model_name": "HTMLModel",
     "state": {
      "_dom_classes": [],
      "_model_module": "@jupyter-widgets/controls",
      "_model_module_version": "1.5.0",
      "_model_name": "HTMLModel",
      "_view_count": null,
      "_view_module": "@jupyter-widgets/controls",
      "_view_module_version": "1.5.0",
      "_view_name": "HTMLView",
      "description": "",
      "description_tooltip": null,
      "layout": "IPY_MODEL_d784227f6db94cc694791eca951dd3bf",
      "placeholder": "​",
      "style": "IPY_MODEL_ccaf39541f674394b3f9dba1d680b257",
      "value": "Render HTML: 100%"
     }
    },
    "b095f6804db74aa1abe9cfe779aa5e49": {
     "model_module": "@jupyter-widgets/controls",
     "model_module_version": "1.5.0",
     "model_name": "HTMLModel",
     "state": {
      "_dom_classes": [],
      "_model_module": "@jupyter-widgets/controls",
      "_model_module_version": "1.5.0",
      "_model_name": "HTMLModel",
      "_view_count": null,
      "_view_module": "@jupyter-widgets/controls",
      "_view_module_version": "1.5.0",
      "_view_name": "HTMLView",
      "description": "",
      "description_tooltip": null,
      "layout": "IPY_MODEL_8e8fe3ccf5f045cb9bc78e1b52956597",
      "placeholder": "​",
      "style": "IPY_MODEL_08b8d98c0a39449eb25c3e6d21962365",
      "value": "Summarize dataset: 100%"
     }
    },
    "bbc8458e114c4e5880122ac3968e3219": {
     "model_module": "@jupyter-widgets/base",
     "model_module_version": "1.2.0",
     "model_name": "LayoutModel",
     "state": {
      "_model_module": "@jupyter-widgets/base",
      "_model_module_version": "1.2.0",
      "_model_name": "LayoutModel",
      "_view_count": null,
      "_view_module": "@jupyter-widgets/base",
      "_view_module_version": "1.2.0",
      "_view_name": "LayoutView",
      "align_content": null,
      "align_items": null,
      "align_self": null,
      "border": null,
      "bottom": null,
      "display": null,
      "flex": null,
      "flex_flow": null,
      "grid_area": null,
      "grid_auto_columns": null,
      "grid_auto_flow": null,
      "grid_auto_rows": null,
      "grid_column": null,
      "grid_gap": null,
      "grid_row": null,
      "grid_template_areas": null,
      "grid_template_columns": null,
      "grid_template_rows": null,
      "height": null,
      "justify_content": null,
      "justify_items": null,
      "left": null,
      "margin": null,
      "max_height": null,
      "max_width": null,
      "min_height": null,
      "min_width": null,
      "object_fit": null,
      "object_position": null,
      "order": null,
      "overflow": null,
      "overflow_x": null,
      "overflow_y": null,
      "padding": null,
      "right": null,
      "top": null,
      "visibility": null,
      "width": null
     }
    },
    "cc42ccf0caea445d827c2c5e5bb941d1": {
     "model_module": "@jupyter-widgets/base",
     "model_module_version": "1.2.0",
     "model_name": "LayoutModel",
     "state": {
      "_model_module": "@jupyter-widgets/base",
      "_model_module_version": "1.2.0",
      "_model_name": "LayoutModel",
      "_view_count": null,
      "_view_module": "@jupyter-widgets/base",
      "_view_module_version": "1.2.0",
      "_view_name": "LayoutView",
      "align_content": null,
      "align_items": null,
      "align_self": null,
      "border": null,
      "bottom": null,
      "display": null,
      "flex": null,
      "flex_flow": null,
      "grid_area": null,
      "grid_auto_columns": null,
      "grid_auto_flow": null,
      "grid_auto_rows": null,
      "grid_column": null,
      "grid_gap": null,
      "grid_row": null,
      "grid_template_areas": null,
      "grid_template_columns": null,
      "grid_template_rows": null,
      "height": null,
      "justify_content": null,
      "justify_items": null,
      "left": null,
      "margin": null,
      "max_height": null,
      "max_width": null,
      "min_height": null,
      "min_width": null,
      "object_fit": null,
      "object_position": null,
      "order": null,
      "overflow": null,
      "overflow_x": null,
      "overflow_y": null,
      "padding": null,
      "right": null,
      "top": null,
      "visibility": null,
      "width": null
     }
    },
    "ccaf39541f674394b3f9dba1d680b257": {
     "model_module": "@jupyter-widgets/controls",
     "model_module_version": "1.5.0",
     "model_name": "DescriptionStyleModel",
     "state": {
      "_model_module": "@jupyter-widgets/controls",
      "_model_module_version": "1.5.0",
      "_model_name": "DescriptionStyleModel",
      "_view_count": null,
      "_view_module": "@jupyter-widgets/base",
      "_view_module_version": "1.2.0",
      "_view_name": "StyleView",
      "description_width": ""
     }
    },
    "d784227f6db94cc694791eca951dd3bf": {
     "model_module": "@jupyter-widgets/base",
     "model_module_version": "1.2.0",
     "model_name": "LayoutModel",
     "state": {
      "_model_module": "@jupyter-widgets/base",
      "_model_module_version": "1.2.0",
      "_model_name": "LayoutModel",
      "_view_count": null,
      "_view_module": "@jupyter-widgets/base",
      "_view_module_version": "1.2.0",
      "_view_name": "LayoutView",
      "align_content": null,
      "align_items": null,
      "align_self": null,
      "border": null,
      "bottom": null,
      "display": null,
      "flex": null,
      "flex_flow": null,
      "grid_area": null,
      "grid_auto_columns": null,
      "grid_auto_flow": null,
      "grid_auto_rows": null,
      "grid_column": null,
      "grid_gap": null,
      "grid_row": null,
      "grid_template_areas": null,
      "grid_template_columns": null,
      "grid_template_rows": null,
      "height": null,
      "justify_content": null,
      "justify_items": null,
      "left": null,
      "margin": null,
      "max_height": null,
      "max_width": null,
      "min_height": null,
      "min_width": null,
      "object_fit": null,
      "object_position": null,
      "order": null,
      "overflow": null,
      "overflow_x": null,
      "overflow_y": null,
      "padding": null,
      "right": null,
      "top": null,
      "visibility": null,
      "width": null
     }
    },
    "ed1c4fb1560a48d1a540ede954439770": {
     "model_module": "@jupyter-widgets/base",
     "model_module_version": "1.2.0",
     "model_name": "LayoutModel",
     "state": {
      "_model_module": "@jupyter-widgets/base",
      "_model_module_version": "1.2.0",
      "_model_name": "LayoutModel",
      "_view_count": null,
      "_view_module": "@jupyter-widgets/base",
      "_view_module_version": "1.2.0",
      "_view_name": "LayoutView",
      "align_content": null,
      "align_items": null,
      "align_self": null,
      "border": null,
      "bottom": null,
      "display": null,
      "flex": null,
      "flex_flow": null,
      "grid_area": null,
      "grid_auto_columns": null,
      "grid_auto_flow": null,
      "grid_auto_rows": null,
      "grid_column": null,
      "grid_gap": null,
      "grid_row": null,
      "grid_template_areas": null,
      "grid_template_columns": null,
      "grid_template_rows": null,
      "height": null,
      "justify_content": null,
      "justify_items": null,
      "left": null,
      "margin": null,
      "max_height": null,
      "max_width": null,
      "min_height": null,
      "min_width": null,
      "object_fit": null,
      "object_position": null,
      "order": null,
      "overflow": null,
      "overflow_x": null,
      "overflow_y": null,
      "padding": null,
      "right": null,
      "top": null,
      "visibility": null,
      "width": null
     }
    },
    "f3da48b7fa0642419589f58c58176bab": {
     "model_module": "@jupyter-widgets/controls",
     "model_module_version": "1.5.0",
     "model_name": "DescriptionStyleModel",
     "state": {
      "_model_module": "@jupyter-widgets/controls",
      "_model_module_version": "1.5.0",
      "_model_name": "DescriptionStyleModel",
      "_view_count": null,
      "_view_module": "@jupyter-widgets/base",
      "_view_module_version": "1.2.0",
      "_view_name": "StyleView",
      "description_width": ""
     }
    },
    "fb6cb3f5666a4ee9b0255d26842b7f70": {
     "model_module": "@jupyter-widgets/base",
     "model_module_version": "1.2.0",
     "model_name": "LayoutModel",
     "state": {
      "_model_module": "@jupyter-widgets/base",
      "_model_module_version": "1.2.0",
      "_model_name": "LayoutModel",
      "_view_count": null,
      "_view_module": "@jupyter-widgets/base",
      "_view_module_version": "1.2.0",
      "_view_name": "LayoutView",
      "align_content": null,
      "align_items": null,
      "align_self": null,
      "border": null,
      "bottom": null,
      "display": null,
      "flex": null,
      "flex_flow": null,
      "grid_area": null,
      "grid_auto_columns": null,
      "grid_auto_flow": null,
      "grid_auto_rows": null,
      "grid_column": null,
      "grid_gap": null,
      "grid_row": null,
      "grid_template_areas": null,
      "grid_template_columns": null,
      "grid_template_rows": null,
      "height": null,
      "justify_content": null,
      "justify_items": null,
      "left": null,
      "margin": null,
      "max_height": null,
      "max_width": null,
      "min_height": null,
      "min_width": null,
      "object_fit": null,
      "object_position": null,
      "order": null,
      "overflow": null,
      "overflow_x": null,
      "overflow_y": null,
      "padding": null,
      "right": null,
      "top": null,
      "visibility": null,
      "width": null
     }
    }
   }
  }
 },
 "nbformat": 4,
 "nbformat_minor": 4
}
